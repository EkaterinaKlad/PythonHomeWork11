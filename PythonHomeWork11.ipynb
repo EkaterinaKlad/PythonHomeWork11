{
  "nbformat": 4,
  "nbformat_minor": 0,
  "metadata": {
    "colab": {
      "provenance": [],
      "authorship_tag": "ABX9TyOttBg/Vh4CgQ9N0UNkV967",
      "include_colab_link": true
    },
    "kernelspec": {
      "name": "python3",
      "display_name": "Python 3"
    },
    "language_info": {
      "name": "python"
    }
  },
  "cells": [
    {
      "cell_type": "markdown",
      "metadata": {
        "id": "view-in-github",
        "colab_type": "text"
      },
      "source": [
        "<a href=\"https://colab.research.google.com/github/EkaterinaKlad/PythonHomeWork11/blob/main/PythonHomeWork11.ipynb\" target=\"_parent\"><img src=\"https://colab.research.google.com/assets/colab-badge.svg\" alt=\"Open In Colab\"/></a>"
      ]
    },
    {
      "cell_type": "markdown",
      "source": [
        "### Дана функция:\n",
        "f(x) = x^3 - 6x^2 + 4x + 12\n",
        "\n",
        "1. Определить корни\n",
        "\n",
        "2. Найти интервалы, на которых функция возрастает\n",
        "\n",
        "3. Найти интервалы, на которых функция убывает\n",
        "\n",
        "4. Построить график\n",
        "\n",
        "5. Вычислить вершину\n",
        "\n",
        "6. Определить промежутки, на котором f > 0\n",
        "\n",
        "7. Определить промежутки, на котором f < 0\n",
        "\n",
        "Оформить работу с заголовками в Markdown."
      ],
      "metadata": {
        "id": "Sp-xeodeHVLk"
      }
    },
    {
      "cell_type": "code",
      "source": [
        "import numpy as np\n",
        "from math import sqrt\n",
        "import matplotlib.pyplot as plt\n",
        "from sympy import *"
      ],
      "metadata": {
        "id": "2cvElEn8H2ou"
      },
      "execution_count": 1,
      "outputs": []
    },
    {
      "cell_type": "markdown",
      "source": [
        "y = x ** 3 - 6 * x ** 2 + 4 * x + 12"
      ],
      "metadata": {
        "id": "DDuxYVmDJY-q"
      }
    },
    {
      "cell_type": "markdown",
      "source": [
        "1. Определить корни"
      ],
      "metadata": {
        "id": "OgbNT8E6KXap"
      }
    },
    {
      "cell_type": "code",
      "source": [
        "x1, x2, x3 = np.roots([1, -6, 4, 12])\n",
        "x1, x2, x3"
      ],
      "metadata": {
        "colab": {
          "base_uri": "https://localhost:8080/"
        },
        "id": "wJ60RL4nKbt1",
        "outputId": "ce0e4076-b668-4cf5-b045-67043c3dac7d"
      },
      "execution_count": 3,
      "outputs": [
        {
          "output_type": "execute_result",
          "data": {
            "text/plain": [
              "(4.534070196722723, 2.517304045008306, -1.051374241731037)"
            ]
          },
          "metadata": {},
          "execution_count": 3
        }
      ]
    },
    {
      "cell_type": "markdown",
      "source": [
        "2. Найти интервалы, на которых функция возрастает"
      ],
      "metadata": {
        "id": "RvnAmK74LmeV"
      }
    },
    {
      "cell_type": "code",
      "source": [
        "x = Symbol('x')"
      ],
      "metadata": {
        "id": "GVRGMMdILo-v"
      },
      "execution_count": 4,
      "outputs": []
    },
    {
      "cell_type": "code",
      "source": [
        "y = x ** 3 - 6 * x ** 2 + 4 * x + 12"
      ],
      "metadata": {
        "id": "2hPfY8FWL4Wf"
      },
      "execution_count": 5,
      "outputs": []
    },
    {
      "cell_type": "markdown",
      "source": [
        "Определяем производную:"
      ],
      "metadata": {
        "id": "-0SjZ6F9M1D7"
      }
    },
    {
      "cell_type": "code",
      "source": [
        "df = diff(y)\n",
        "df"
      ],
      "metadata": {
        "colab": {
          "base_uri": "https://localhost:8080/",
          "height": 39
        },
        "id": "3RpMWcMfM5Zk",
        "outputId": "1489ad37-5ae5-458c-f47c-e9f055e1b2d1"
      },
      "execution_count": 7,
      "outputs": [
        {
          "output_type": "execute_result",
          "data": {
            "text/plain": [
              "3*x**2 - 12*x + 4"
            ],
            "text/latex": "$\\displaystyle 3 x^{2} - 12 x + 4$"
          },
          "metadata": {},
          "execution_count": 7
        }
      ]
    },
    {
      "cell_type": "code",
      "source": [
        "df_roots = solve(df)\n",
        "float(df_roots[0])"
      ],
      "metadata": {
        "colab": {
          "base_uri": "https://localhost:8080/"
        },
        "id": "YYEutW28NZUi",
        "outputId": "9228eaff-ea6f-4841-a18b-24f8c85e18f2"
      },
      "execution_count": 8,
      "outputs": [
        {
          "output_type": "execute_result",
          "data": {
            "text/plain": [
              "0.36700683814454793"
            ]
          },
          "metadata": {},
          "execution_count": 8
        }
      ]
    },
    {
      "cell_type": "code",
      "source": [
        "solve(df>0)"
      ],
      "metadata": {
        "colab": {
          "base_uri": "https://localhost:8080/",
          "height": 68
        },
        "id": "ooQUAXBHN5-0",
        "outputId": "614a2a12-bbfd-4e2e-d3d0-157cad3b7cf5"
      },
      "execution_count": 9,
      "outputs": [
        {
          "output_type": "execute_result",
          "data": {
            "text/plain": [
              "((-oo < x) & (x < 2 - 2*sqrt(6)/3)) | ((x < oo) & (2*sqrt(6)/3 + 2 < x))"
            ],
            "text/latex": "$\\displaystyle \\left(-\\infty < x \\wedge x < 2 - \\frac{2 \\sqrt{6}}{3}\\right) \\vee \\left(x < \\infty \\wedge \\frac{2 \\sqrt{6}}{3} + 2 < x\\right)$"
          },
          "metadata": {},
          "execution_count": 9
        }
      ]
    },
    {
      "cell_type": "markdown",
      "source": [
        "3. Найти интервалы, на которых функция убывает"
      ],
      "metadata": {
        "id": "ItpM3oLROMka"
      }
    },
    {
      "cell_type": "code",
      "source": [
        "solve(df<0)"
      ],
      "metadata": {
        "colab": {
          "base_uri": "https://localhost:8080/",
          "height": 55
        },
        "id": "FLmDI9lsOPf9",
        "outputId": "cff1e92a-3065-488b-e26f-6dda5ec8b740"
      },
      "execution_count": 10,
      "outputs": [
        {
          "output_type": "execute_result",
          "data": {
            "text/plain": [
              "(x < 2*sqrt(6)/3 + 2) & (2 - 2*sqrt(6)/3 < x)"
            ],
            "text/latex": "$\\displaystyle x < \\frac{2 \\sqrt{6}}{3} + 2 \\wedge 2 - \\frac{2 \\sqrt{6}}{3} < x$"
          },
          "metadata": {},
          "execution_count": 10
        }
      ]
    },
    {
      "cell_type": "markdown",
      "source": [
        "4. Построить график"
      ],
      "metadata": {
        "id": "UDwvAzkWOitp"
      }
    },
    {
      "cell_type": "code",
      "source": [
        "z = list(range(-100,100))"
      ],
      "metadata": {
        "id": "C_zWbiiMOkjf"
      },
      "execution_count": 11,
      "outputs": []
    },
    {
      "cell_type": "code",
      "source": [
        "fz = [x ** 3 - 6 * x ** 2 + 4 * x + 12 for x in z]"
      ],
      "metadata": {
        "id": "ST-gVrO7PEfE"
      },
      "execution_count": 12,
      "outputs": []
    },
    {
      "cell_type": "code",
      "source": [
        "plt.axes(facecolor='white')\n",
        "plt.plot(z,fz)\n",
        "plt.show()"
      ],
      "metadata": {
        "colab": {
          "base_uri": "https://localhost:8080/",
          "height": 276
        },
        "id": "T4FgGKcIPMDA",
        "outputId": "c3af7a1c-18f0-4027-b994-a001dafee0e0"
      },
      "execution_count": 13,
      "outputs": [
        {
          "output_type": "display_data",
          "data": {
            "text/plain": [
              "<Figure size 432x288 with 1 Axes>"
            ],
            "image/png": "[encoded data removed]"
          },
          "metadata": {
            "needs_background": "light"
          }
        }
      ]
    },
    {
      "cell_type": "markdown",
      "source": [
        "5. Вычислить вершину"
      ],
      "metadata": {
        "id": "ol_gPDhUPgY4"
      }
    },
    {
      "cell_type": "code",
      "source": [
        "y = [1, -6, 4, 12]\n",
        "y"
      ],
      "metadata": {
        "colab": {
          "base_uri": "https://localhost:8080/"
        },
        "id": "iIJrrtg5PkL2",
        "outputId": "b75a5795-3b06-4979-c830-a07e1406f0ec"
      },
      "execution_count": 14,
      "outputs": [
        {
          "output_type": "execute_result",
          "data": {
            "text/plain": [
              "[1, -6, 4, 12]"
            ]
          },
          "metadata": {},
          "execution_count": 14
        }
      ]
    },
    {
      "cell_type": "code",
      "source": [
        "np.polyder(y)"
      ],
      "metadata": {
        "colab": {
          "base_uri": "https://localhost:8080/"
        },
        "id": "75scEc3FQxUA",
        "outputId": "76ed9431-781a-4426-fea5-7c1b2ae3c96c"
      },
      "execution_count": 15,
      "outputs": [
        {
          "output_type": "execute_result",
          "data": {
            "text/plain": [
              "array([  3, -12,   4])"
            ]
          },
          "metadata": {},
          "execution_count": 15
        }
      ]
    },
    {
      "cell_type": "markdown",
      "source": [
        "Находим координаты х:"
      ],
      "metadata": {
        "id": "cH3DgQkCRMHt"
      }
    },
    {
      "cell_type": "code",
      "source": [
        "z1 = np.roots(np.polyder(y))\n",
        "z1"
      ],
      "metadata": {
        "colab": {
          "base_uri": "https://localhost:8080/"
        },
        "id": "PbhLFFgMRPz1",
        "outputId": "0fab51f7-e08a-46d6-b7a0-692f619a7970"
      },
      "execution_count": 16,
      "outputs": [
        {
          "output_type": "execute_result",
          "data": {
            "text/plain": [
              "array([3.63299316, 0.36700684])"
            ]
          },
          "metadata": {},
          "execution_count": 16
        }
      ]
    },
    {
      "cell_type": "markdown",
      "source": [
        "Находим координаты y:"
      ],
      "metadata": {
        "id": "CFqHbxLlRj6m"
      }
    },
    {
      "cell_type": "code",
      "source": [
        "np.polyval(y, z1)"
      ],
      "metadata": {
        "colab": {
          "base_uri": "https://localhost:8080/"
        },
        "id": "f631s0mzRtnL",
        "outputId": "29f62adf-3111-4250-fbce-500e9f5ee850"
      },
      "execution_count": 17,
      "outputs": [
        {
          "output_type": "execute_result",
          "data": {
            "text/plain": [
              "array([-4.70929686, 12.70929686])"
            ]
          },
          "metadata": {},
          "execution_count": 17
        }
      ]
    },
    {
      "cell_type": "markdown",
      "source": [
        "6. Определить промежутки, на котором f > 0"
      ],
      "metadata": {
        "id": "cecSyB8dUNgm"
      }
    },
    {
      "cell_type": "code",
      "source": [
        "y = x ** 3 - 6 * x ** 2 + 4 * x + 12\n",
        "solve(y>0)"
      ],
      "metadata": {
        "colab": {
          "base_uri": "https://localhost:8080/",
          "height": 39
        },
        "id": "wB27zIsoUPrN",
        "outputId": "9f2f2e12-cfdb-4c27-fab2-6a8be29d1b45"
      },
      "execution_count": 19,
      "outputs": [
        {
          "output_type": "execute_result",
          "data": {
            "text/plain": [
              "((x < oo) & (CRootOf(x**3 - 6*x**2 + 4*x + 12, 2) < x)) | ((x < CRootOf(x**3 - 6*x**2 + 4*x + 12, 1)) & (CRootOf(x**3 - 6*x**2 + 4*x + 12, 0) < x))"
            ],
            "text/latex": "$\\displaystyle \\left(x < \\infty \\wedge \\operatorname{CRootOf} {\\left(x^{3} - 6 x^{2} + 4 x + 12, 2\\right)} < x\\right) \\vee \\left(x < \\operatorname{CRootOf} {\\left(x^{3} - 6 x^{2} + 4 x + 12, 1\\right)} \\wedge \\operatorname{CRootOf} {\\left(x^{3} - 6 x^{2} + 4 x + 12, 0\\right)} < x\\right)$"
          },
          "metadata": {},
          "execution_count": 19
        }
      ]
    },
    {
      "cell_type": "markdown",
      "source": [
        "7. Определить промежутки, на котором f < 0"
      ],
      "metadata": {
        "id": "l1Qyv7KUVZOe"
      }
    },
    {
      "cell_type": "code",
      "source": [
        "solve(y<0)"
      ],
      "metadata": {
        "colab": {
          "base_uri": "https://localhost:8080/",
          "height": 39
        },
        "id": "8QsP_bb2U9HC",
        "outputId": "6e035b54-8261-421b-830c-a7701081a6be"
      },
      "execution_count": 20,
      "outputs": [
        {
          "output_type": "execute_result",
          "data": {
            "text/plain": [
              "((-oo < x) & (x < CRootOf(x**3 - 6*x**2 + 4*x + 12, 0))) | ((x < CRootOf(x**3 - 6*x**2 + 4*x + 12, 2)) & (CRootOf(x**3 - 6*x**2 + 4*x + 12, 1) < x))"
            ],
            "text/latex": "$\\displaystyle \\left(-\\infty < x \\wedge x < \\operatorname{CRootOf} {\\left(x^{3} - 6 x^{2} + 4 x + 12, 0\\right)}\\right) \\vee \\left(x < \\operatorname{CRootOf} {\\left(x^{3} - 6 x^{2} + 4 x + 12, 2\\right)} \\wedge \\operatorname{CRootOf} {\\left(x^{3} - 6 x^{2} + 4 x + 12, 1\\right)} < x\\right)$"
          },
          "metadata": {},
          "execution_count": 20
        }
      ]
    }
  ]
}